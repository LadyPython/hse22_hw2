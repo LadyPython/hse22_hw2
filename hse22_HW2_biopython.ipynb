{
  "nbformat": 4,
  "nbformat_minor": 0,
  "metadata": {
    "colab": {
      "provenance": [],
      "collapsed_sections": [
        "nuikKeO1bL7N",
        "ed-CWFY3cZK0",
        "D2UNiwEyet54",
        "Pr5GctSQxlsQ"
      ],
      "include_colab_link": true
    },
    "kernelspec": {
      "name": "python3",
      "display_name": "Python 3"
    },
    "language_info": {
      "name": "python"
    }
  },
  "cells": [
    {
      "cell_type": "markdown",
      "metadata": {
        "id": "view-in-github",
        "colab_type": "text"
      },
      "source": [
        "<a href=\"https://colab.research.google.com/github/LadyPython/hse22_hw2/blob/main/hse22_HW2_biopython.ipynb\" target=\"_parent\"><img src=\"https://colab.research.google.com/assets/colab-badge.svg\" alt=\"Open In Colab\"/></a>"
      ]
    },
    {
      "cell_type": "markdown",
      "source": [
        "# Скачиваем данные и устанавливаем программы"
      ],
      "metadata": {
        "id": "WJ71oQTxShEj"
      }
    },
    {
      "cell_type": "code",
      "source": [
        "!wget https://raw.githubusercontent.com/ladypython/hse22_hw2/main/data/gms2.lst"
      ],
      "metadata": {
        "id": "fWSU9pxNTOSR",
        "colab": {
          "base_uri": "https://localhost:8080/"
        },
        "outputId": "ebcfca9d-987d-4e96-a81c-b096d30f22bb"
      },
      "execution_count": 5,
      "outputs": [
        {
          "output_type": "stream",
          "name": "stdout",
          "text": [
            "--2022-10-18 02:15:45--  https://raw.githubusercontent.com/ladypython/hse22_hw2/main/data/gms2.lst\n",
            "Resolving raw.githubusercontent.com (raw.githubusercontent.com)... 185.199.108.133, 185.199.109.133, 185.199.110.133, ...\n",
            "Connecting to raw.githubusercontent.com (raw.githubusercontent.com)|185.199.108.133|:443... connected.\n",
            "HTTP request sent, awaiting response... 200 OK\n",
            "Length: 221146 (216K) [text/plain]\n",
            "Saving to: ‘gms2.lst’\n",
            "\n",
            "gms2.lst            100%[===================>] 215.96K  --.-KB/s    in 0.02s   \n",
            "\n",
            "2022-10-18 02:15:45 (13.8 MB/s) - ‘gms2.lst’ saved [221146/221146]\n",
            "\n"
          ]
        }
      ]
    },
    {
      "cell_type": "code",
      "source": [
        "!wget https://raw.githubusercontent.com/ladypython/hse22_hw1/main/data/scaffolds.fasta"
      ],
      "metadata": {
        "id": "yWoD0myNTVi8",
        "colab": {
          "base_uri": "https://localhost:8080/"
        },
        "outputId": "70f75d6b-4863-47b8-93cf-2334306edfcb"
      },
      "execution_count": 18,
      "outputs": [
        {
          "output_type": "stream",
          "name": "stdout",
          "text": [
            "--2022-10-18 02:24:03--  https://raw.githubusercontent.com/ladypython/hse22_hw1/main/data/scaffolds.fasta\n",
            "Resolving raw.githubusercontent.com (raw.githubusercontent.com)... 185.199.108.133, 185.199.109.133, 185.199.110.133, ...\n",
            "Connecting to raw.githubusercontent.com (raw.githubusercontent.com)|185.199.108.133|:443... connected.\n",
            "HTTP request sent, awaiting response... 200 OK\n",
            "Length: 3969401 (3.8M) [text/plain]\n",
            "Saving to: ‘scaffolds.fasta’\n",
            "\n",
            "scaffolds.fasta     100%[===================>]   3.79M  --.-KB/s    in 0.04s   \n",
            "\n",
            "2022-10-18 02:24:03 (85.3 MB/s) - ‘scaffolds.fasta’ saved [3969401/3969401]\n",
            "\n"
          ]
        }
      ]
    },
    {
      "cell_type": "code",
      "source": [
        "!wget https://raw.githubusercontent.com/ladypython/hse22_hw2/main/data/proteins.fasta"
      ],
      "metadata": {
        "id": "FkuulZekTbh9",
        "colab": {
          "base_uri": "https://localhost:8080/"
        },
        "outputId": "d9d6e735-5909-45fe-f89b-f4598c296765"
      },
      "execution_count": 7,
      "outputs": [
        {
          "output_type": "stream",
          "name": "stdout",
          "text": [
            "--2022-10-18 02:15:48--  https://raw.githubusercontent.com/ladypython/hse22_hw2/main/data/proteins.fasta\n",
            "Resolving raw.githubusercontent.com (raw.githubusercontent.com)... 185.199.108.133, 185.199.109.133, 185.199.110.133, ...\n",
            "Connecting to raw.githubusercontent.com (raw.githubusercontent.com)|185.199.108.133|:443... connected.\n",
            "HTTP request sent, awaiting response... 200 OK\n",
            "Length: 1403652 (1.3M) [text/plain]\n",
            "Saving to: ‘proteins.fasta’\n",
            "\n",
            "proteins.fasta      100%[===================>]   1.34M  --.-KB/s    in 0.03s   \n",
            "\n",
            "2022-10-18 02:15:49 (39.1 MB/s) - ‘proteins.fasta’ saved [1403652/1403652]\n",
            "\n"
          ]
        }
      ]
    },
    {
      "cell_type": "code",
      "source": [
        "!wget https://raw.githubusercontent.com/ladypython/hse22_hw2/main/data/scaffolds.hits_from_MIL_1.txt"
      ],
      "metadata": {
        "id": "wljcApdJTjGr",
        "colab": {
          "base_uri": "https://localhost:8080/"
        },
        "outputId": "315a7c3c-92c7-4abf-9eae-3bc7dc2eca39"
      },
      "execution_count": 8,
      "outputs": [
        {
          "output_type": "stream",
          "name": "stdout",
          "text": [
            "--2022-10-18 02:15:49--  https://raw.githubusercontent.com/ladypython/hse22_hw2/main/data/scaffolds.hits_from_MIL_1.txt\n",
            "Resolving raw.githubusercontent.com (raw.githubusercontent.com)... 185.199.110.133, 185.199.108.133, 185.199.109.133, ...\n",
            "Connecting to raw.githubusercontent.com (raw.githubusercontent.com)|185.199.110.133|:443... connected.\n",
            "HTTP request sent, awaiting response... 200 OK\n",
            "Length: 872361 (852K) [text/plain]\n",
            "Saving to: ‘scaffolds.hits_from_MIL_1.txt’\n",
            "\n",
            "scaffolds.hits_from 100%[===================>] 851.92K  --.-KB/s    in 0.03s   \n",
            "\n",
            "2022-10-18 02:15:50 (32.7 MB/s) - ‘scaffolds.hits_from_MIL_1.txt’ saved [872361/872361]\n",
            "\n"
          ]
        }
      ]
    },
    {
      "cell_type": "code",
      "source": [
        "!wget https://raw.githubusercontent.com/ladypython/hse22_hw2/main/data/scaffolds.hits_from_SwissProt.txt"
      ],
      "metadata": {
        "id": "7ZGyVtAfTopz",
        "colab": {
          "base_uri": "https://localhost:8080/"
        },
        "outputId": "e72fa291-7d89-45ef-cbe9-f7e4fbe657f5"
      },
      "execution_count": 9,
      "outputs": [
        {
          "output_type": "stream",
          "name": "stdout",
          "text": [
            "--2022-10-18 02:15:51--  https://raw.githubusercontent.com/ladypython/hse22_hw2/main/data/scaffolds.hits_from_SwissProt.txt\n",
            "Resolving raw.githubusercontent.com (raw.githubusercontent.com)... 185.199.108.133, 185.199.109.133, 185.199.110.133, ...\n",
            "Connecting to raw.githubusercontent.com (raw.githubusercontent.com)|185.199.108.133|:443... connected.\n",
            "HTTP request sent, awaiting response... 200 OK\n",
            "Length: 66190 (65K) [text/plain]\n",
            "Saving to: ‘scaffolds.hits_from_SwissProt.txt’\n",
            "\n",
            "\r          scaffolds   0%[                    ]       0  --.-KB/s               \rscaffolds.hits_from 100%[===================>]  64.64K  --.-KB/s    in 0.008s  \n",
            "\n",
            "2022-10-18 02:15:51 (7.89 MB/s) - ‘scaffolds.hits_from_SwissProt.txt’ saved [66190/66190]\n",
            "\n"
          ]
        }
      ]
    },
    {
      "cell_type": "markdown",
      "metadata": {
        "id": "EkEflOHmCHHW"
      },
      "source": [
        "## Скачиваем геном близкородственной бактерии T.oleivorans"
      ]
    },
    {
      "cell_type": "markdown",
      "metadata": {
        "id": "noBYTW1bRH9O"
      },
      "source": [
        "Геном, последовательности генов (нт) и белков (протеом) для бактерии Thalassolituus oleivorans MIL-1\n",
        "https://www.ncbi.nlm.nih.gov/nuccore/HF680312"
      ]
    },
    {
      "cell_type": "code",
      "source": [
        "!sh -c \"$(curl -fsSL ftp://ftp.ncbi.nlm.nih.gov/entrez/entrezdirect/install-edirect.sh)\""
      ],
      "metadata": {
        "id": "bqv3FR5efmk6",
        "colab": {
          "base_uri": "https://localhost:8080/"
        },
        "outputId": "bca60491-1690-44dd-f26c-7898d3a7299e"
      },
      "execution_count": 10,
      "outputs": [
        {
          "output_type": "stream",
          "name": "stdout",
          "text": [
            "\n",
            "Entrez Direct has been successfully downloaded and installed.\n",
            "\n",
            "In order to complete the configuration process, please execute the following:\n",
            "\n",
            "  echo \"export PATH=\\${PATH}:/root/edirect\" >> ${HOME}/.bashrc\n",
            "\n",
            "or manually edit the PATH variable assignment in your .bashrc file.\n",
            "\n",
            "Would you like to do that automatically now? [y/N]\n",
            "y\n",
            "OK, done.\n",
            "\n",
            "To activate EDirect for this terminal session, please execute the following:\n",
            "\n",
            "export PATH=${PATH}:${HOME}/edirect\n",
            "\n"
          ]
        }
      ]
    },
    {
      "cell_type": "code",
      "source": [
        "!$HOME/edirect/efetch -db nuccore -id HF680312 -format gb  >  T_oleivorans_MIL_1.gbk"
      ],
      "metadata": {
        "id": "4O3-rUx4fvbw"
      },
      "execution_count": 11,
      "outputs": []
    },
    {
      "cell_type": "code",
      "metadata": {
        "id": "j2uga-mieSB6",
        "colab": {
          "base_uri": "https://localhost:8080/"
        },
        "outputId": "a4e675da-5c9e-4bec-d548-5cc46967501b"
      },
      "source": [
        "!pip install biopython"
      ],
      "execution_count": 12,
      "outputs": [
        {
          "output_type": "stream",
          "name": "stdout",
          "text": [
            "Looking in indexes: https://pypi.org/simple, https://us-python.pkg.dev/colab-wheels/public/simple/\n",
            "Collecting biopython\n",
            "  Downloading biopython-1.79-cp37-cp37m-manylinux_2_17_x86_64.manylinux2014_x86_64.whl (2.6 MB)\n",
            "\u001b[K     |████████████████████████████████| 2.6 MB 8.3 MB/s \n",
            "\u001b[?25hRequirement already satisfied: numpy in /usr/local/lib/python3.7/dist-packages (from biopython) (1.21.6)\n",
            "Installing collected packages: biopython\n",
            "Successfully installed biopython-1.79\n"
          ]
        }
      ]
    },
    {
      "cell_type": "markdown",
      "source": [
        "## Аннотация генома"
      ],
      "metadata": {
        "id": "EJIw_JDLUgt5"
      }
    },
    {
      "cell_type": "markdown",
      "source": [
        "Biopython Tutorial: http://biopython.org/DIST/docs/tutorial/Tutorial.html"
      ],
      "metadata": {
        "id": "qhxlclhoYhBh"
      }
    },
    {
      "cell_type": "code",
      "source": [
        "!head -n 20 gms2.lst"
      ],
      "metadata": {
        "id": "G33GF-iGU9Ka",
        "colab": {
          "base_uri": "https://localhost:8080/"
        },
        "outputId": "af6a2826-7308-4707-b5bb-73db45afdb80"
      },
      "execution_count": 13,
      "outputs": [
        {
          "output_type": "stream",
          "name": "stdout",
          "text": [
            "# GeneMark.hmm-2 LST format\n",
            "# GeneMark.hmm-2 prokaryotic version: 1.25_lic\n",
            "# File with sequence: scaffolds.fasta\n",
            "# File with native parameters: GMS2.mod\n",
            "# Native species name and build: unspecified GeneMarkS-2-1.14_1.25_lic\n",
            "# File with MetaGeneMark parameters: /content/gms2_linux_64/mgm_11.mod\n",
            "# translation table: 11\n",
            "# output date start: Tue Oct 18 02:00:07 2022\n",
            "\n",
            "# sequence-region 1 3880579\n",
            "SequenceID: scaffold1_cov231\n",
            "     1   -   <3    299     297 native GAGGTG 4 1\n",
            "     2   -    372    815     444 atypical AGCGAG 6 1\n",
            "     3   -    840    1361     522 atypical CAGGAA 7 1\n",
            "     4   -    1799    2626     828 atypical CAGGAT 10 1\n",
            "     5   +    2972    3094     123 native TTGGAG 7 1\n",
            "     6   -    3269    4003     735 native CAGGTC 8 1\n",
            "     7   -    4341    5516    1176 native TAGGAG 9 1\n",
            "     8   -    5541    7688    2148 native GTGGAG 8 1\n",
            "     9   +    8057    8851     795 native AAGTAG 6 1\n"
          ]
        }
      ]
    },
    {
      "cell_type": "code",
      "metadata": {
        "id": "1hegJvwMIiPe"
      },
      "source": [
        "from Bio import SeqIO\n",
        "\n",
        "scaffolds_records = {}\n",
        "for record in SeqIO.parse(\"scaffolds.fasta\", \"fasta\"):\n",
        "  record.annotations['molecule_type'] = 'DNA'\n",
        "  scaffolds_records[record.id] = record"
      ],
      "execution_count": 53,
      "outputs": []
    },
    {
      "cell_type": "code",
      "source": [
        "SeqIO.write(scaffolds_records, \"GENOME.gbk\", \"genbank\")"
      ],
      "metadata": {
        "id": "4mv05veKXHWo",
        "colab": {
          "base_uri": "https://localhost:8080/"
        },
        "outputId": "f63fb15f-5d79-496c-cb31-3947199b91a0"
      },
      "execution_count": 43,
      "outputs": [
        {
          "output_type": "execute_result",
          "data": {
            "text/plain": [
              "70"
            ]
          },
          "metadata": {},
          "execution_count": 43
        }
      ]
    },
    {
      "cell_type": "markdown",
      "source": [
        "## Добавляем координаты генов и трансляции генов (аминокислотные посл-ти)"
      ],
      "metadata": {
        "id": "nuikKeO1bL7N"
      }
    },
    {
      "cell_type": "markdown",
      "source": [
        "```\n",
        "SequenceID: scaffold3_cov275\n",
        "  3535   -    30    1001     972 atypical GTCGAG 5 1\n",
        "  3536   -    1350    2192     843 native AAAGTG 7 1\n",
        "  3537   +    2304    2507     204 native GCGGAG 7 1\n",
        "  3538   -    2554    2751     198 native TAAGTA 7 1\n",
        "  3539   +    2855    3265     411 native TCGGTC 6 1\n",
        "```"
      ],
      "metadata": {
        "id": "lR-FjFgRba09"
      }
    },
    {
      "cell_type": "code",
      "metadata": {
        "id": "4cXKMhtmYZ9t"
      },
      "source": [
        "from pprint import pprint\n",
        "from Bio.SeqFeature import SeqFeature, FeatureLocation\n",
        "\n",
        "for record in SeqIO.parse(\"proteins.fasta\", \"fasta\"):\n",
        "  description = record.description.strip().split()\n",
        "  id, start, end, strand = description[1], int(description[2]), int(description[3]), 1 if description[4] == '+' else -1\n",
        "  feature = SeqFeature(FeatureLocation(start, end, strand=strand), type=\"CDS\")\n",
        "  feature.qualifiers['locus_tag'] = [record.name]\n",
        "  feature.qualifiers['translation'] = [record.seq]\n",
        "  scaffolds_records[id].features.append(feature)"
      ],
      "execution_count": 59,
      "outputs": []
    },
    {
      "cell_type": "code",
      "source": [
        "SeqIO.write(list(scaffolds_records.values()), \"GENOME.gbk\", \"genbank\")"
      ],
      "metadata": {
        "id": "GoDauTDCvcdM",
        "colab": {
          "base_uri": "https://localhost:8080/"
        },
        "outputId": "d7a60e2e-a9cd-4835-c90f-9c94ba5792cf"
      },
      "execution_count": 60,
      "outputs": [
        {
          "output_type": "execute_result",
          "data": {
            "text/plain": [
              "70"
            ]
          },
          "metadata": {},
          "execution_count": 60
        }
      ]
    },
    {
      "cell_type": "markdown",
      "source": [
        "## Добавляем функции белков (из бактерии MIL-1)"
      ],
      "metadata": {
        "id": "D2UNiwEyet54"
      }
    },
    {
      "cell_type": "markdown",
      "source": [
        "Часть файла scaffolds.hits_from_MIL_1.txt:\n",
        "```\n",
        "3535\tlcl|HF680312.1_prot_CCU72326.1_1877\t99.054\t317\t3\t0\t3\t319\t1\t317\t0.0\t644\n",
        "3535\tlcl|HF680312.1_prot_CCU72392.1_1943\t34.583\t240\t138\t5\t85\t307\t956\t1193\t2.33e-30\t118\n",
        "3535\tlcl|HF680312.1_prot_CCU72759.1_2310\t27.667\t300\t188\t8\t8\t302\t709\t984\t1.02e-24\t101\n",
        "3535\tlcl|HF680312.1_prot_CCU70543.1_94\t42.857\t126\t71\t1\t79\t204\t798\t922\t5.63e-24\t99.4\n",
        "3535\tlcl|HF680312.1_prot_CCU70690.1_241\t26.140\t329\t205\t10\t2\t303\t591\t908\t6.26e-23\t96.7\n",
        "3535\tlcl|HF680312.1_prot_CCU74013.1_3564\t38.462\t130\t76\t3\t91\t219\t685\t811\t4.96e-20\t87.8\n",
        "3535\tlcl|HF680312.1_prot_CCU71475.1_1026\t36.522\t115\t71\t2\t86\t200\t555\t667\t2.19e-16\t76.6\n",
        "3535\tlcl|HF680312.1_prot_CCU71362.1_913\t24.535\t269\t187\t3\t52\t306\t633\t899\t2.61e-14\t70.5\n",
        "3535\tlcl|HF680312.1_prot_CCU70724.1_275\t30.534\t131\t81\t3\t78\t205\t1983\t2106\t6.54e-13\t66.2\n",
        "3535\tlcl|HF680312.1_prot_CCU70719.1_270\t26.087\t115\t83\t1\t90\t204\t15\t127\t9.14e-12\t58.5\n",
        "3535\tlcl|HF680312.1_prot_CCU72006.1_1557\t35.652\t115\t68\t3\t87\t200\t421\t530\t1.06e-11\t62.0\n",
        "3535\tlcl|HF680312.1_prot_CCU72513.1_2064\t33.628\t113\t72\t1\t91\t200\t766\t878\t1.22e-11\t62.4\n",
        "3536\tlcl|HF680312.1_prot_CCU72327.1_1878\t100.000\t280\t0\t0\t1\t280\t1\t280\t0.0\t570\n",
        "3536\tlcl|HF680312.1_prot_CCU72858.1_2409\t27.437\t277\t181\t4\t10\t272\t1\t271\t1.82e-26\t101\n",
        "3537\tlcl|HF680312.1_prot_CCU72328.1_1879\t100.000\t67\t0\t0\t1\t67\t1\t67\t9.75e-44\t132\n",
        "```"
      ],
      "metadata": {
        "id": "tCFpL_GLfDzJ"
      }
    },
    {
      "cell_type": "code",
      "source": [
        "mil_1_genome = SeqIO.read(\"/content/T_oleivorans_MIL_1.gbk\", \"genbank\")"
      ],
      "metadata": {
        "id": "MxKSgTvihLIY"
      },
      "execution_count": 62,
      "outputs": []
    },
    {
      "cell_type": "code",
      "metadata": {
        "id": "4EDCGDdmZt8O"
      },
      "source": [
        "d = {}\n",
        "for mil_f in mil_1_genome.features:\n",
        "  if 'protein_id' not in mil_f.qualifiers:\n",
        "    continue\n",
        "\n",
        "  d[mil_f.qualifiers['protein_id'][0]] = mil_f.qualifiers['product'][0]"
      ],
      "execution_count": 70,
      "outputs": []
    },
    {
      "cell_type": "code",
      "source": [
        "pprint(sc3_f1.qualifiers)"
      ],
      "metadata": {
        "id": "eK-3-vRCxHEP"
      },
      "execution_count": null,
      "outputs": []
    },
    {
      "cell_type": "code",
      "source": [
        "record_sc3.features = [sc3_f1, sc3_f2, sc3_f3]\n",
        "SeqIO.write([record_sc3, record_sc9], \"GENOME.gbk\", \"genbank\")"
      ],
      "metadata": {
        "id": "KHcrRw4HxTzk"
      },
      "execution_count": null,
      "outputs": []
    },
    {
      "cell_type": "markdown",
      "source": [
        "## Добавляем функции белков (из БД SwissProt)"
      ],
      "metadata": {
        "id": "Pr5GctSQxlsQ"
      }
    },
    {
      "cell_type": "markdown",
      "source": [
        "Читаем информацию из файла scaffolds.hits_from_SwissProt.txt"
      ],
      "metadata": {
        "id": "xLafv2r8xo6P"
      }
    },
    {
      "cell_type": "code",
      "source": [
        "!head scaffolds.hits_from_SwissProt.txt"
      ],
      "metadata": {
        "id": "_bHOMEqhxvDd",
        "colab": {
          "base_uri": "https://localhost:8080/"
        },
        "outputId": "d2705846-2cab-491c-ec71-bf193f9f56f5"
      },
      "execution_count": 66,
      "outputs": [
        {
          "output_type": "stream",
          "name": "stdout",
          "text": [
            "169\tsp|P55546|Y4LF_SINFN\t42.553\t141\t80\t1\t1\t141\t1\t140\t1.18e-36\t144\n",
            "428\tsp|Q06916|GUFA_MYXXA\t43.802\t242\t136\t0\t71\t312\t13\t254\t2.33e-47\t162\n",
            "428\tsp|Q3B4G1|ZUPT_CHLL3\t34.016\t244\t148\t6\t72\t304\t17\t258\t6.82e-25\t103\n",
            "428\tsp|Q8N1S5|S39AB_HUMAN\t40.625\t160\t83\t3\t162\t312\t186\t342\t1.64e-23\t101\n",
            "428\tsp|Q6P6S2|S39AB_RAT\t40.000\t160\t84\t3\t162\t312\t179\t335\t2.03e-23\t101\n",
            "428\tsp|Q2YDD4|S39AB_BOVIN\t40.000\t160\t84\t3\t162\t312\t185\t341\t2.62e-23\t101\n",
            "428\tsp|Q8NQK0|ZUPT_CORGL\t35.968\t253\t144\t7\t67\t306\t10\t257\t1.83e-22\t97.4\n",
            "428\tsp|Q8BWY7|S39AB_MOUSE\t41.176\t153\t78\t3\t169\t312\t193\t342\t2.70e-22\t98.6\n",
            "428\tsp|B3ECE6|ZUPT_CHLL2\t34.000\t250\t146\t10\t71\t306\t16\t260\t5.36e-22\t96.3\n",
            "428\tsp|Q28J44|S39AB_XENTR\t39.623\t159\t84\t3\t163\t312\t181\t336\t1.08e-21\t96.7\n"
          ]
        }
      ]
    },
    {
      "cell_type": "markdown",
      "source": [
        "product = 'Similar to SwissProt protein Y1178_METJA (E-value = 2.95e-28)'"
      ],
      "metadata": {
        "id": "UykENPFgyIQu"
      }
    },
    {
      "cell_type": "markdown",
      "source": [
        "Получить функции белков SwissProt из файла: https://ftp.uniprot.org/pub/databases/uniprot/current_release/knowledgebase/complete/uniprot_sprot.dat.gz"
      ],
      "metadata": {
        "id": "HWWUeHCdyAdb"
      }
    },
    {
      "cell_type": "code",
      "source": [
        "!wget https://ftp.uniprot.org/pub/databases/uniprot/current_release/knowledgebase/complete/uniprot_sprot.dat.gz"
      ],
      "metadata": {
        "colab": {
          "base_uri": "https://localhost:8080/"
        },
        "id": "tTRJ0KfnWIdt",
        "outputId": "93f0501c-010b-42e6-8726-817134eea1f6"
      },
      "execution_count": 67,
      "outputs": [
        {
          "output_type": "stream",
          "name": "stdout",
          "text": [
            "--2022-10-18 03:12:41--  https://ftp.uniprot.org/pub/databases/uniprot/current_release/knowledgebase/complete/uniprot_sprot.dat.gz\n",
            "Resolving ftp.uniprot.org (ftp.uniprot.org)... 128.175.240.195\n",
            "Connecting to ftp.uniprot.org (ftp.uniprot.org)|128.175.240.195|:443... connected.\n",
            "HTTP request sent, awaiting response... 200 OK\n",
            "Length: 642093634 (612M) [application/x-gzip]\n",
            "Saving to: ‘uniprot_sprot.dat.gz’\n",
            "\n",
            "uniprot_sprot.dat.g 100%[===================>] 612.35M  31.0MB/s    in 16s     \n",
            "\n",
            "2022-10-18 03:12:57 (38.0 MB/s) - ‘uniprot_sprot.dat.gz’ saved [642093634/642093634]\n",
            "\n"
          ]
        }
      ]
    },
    {
      "cell_type": "code",
      "source": [
        "!gzip -d uniprot_sprot.dat.gz"
      ],
      "metadata": {
        "id": "_7n4ZxdjWPxH"
      },
      "execution_count": 68,
      "outputs": []
    },
    {
      "cell_type": "code",
      "source": [
        "!grep Q55EH8 uniprot_sprot.dat"
      ],
      "metadata": {
        "colab": {
          "base_uri": "https://localhost:8080/"
        },
        "id": "-nbARM7PWy3z",
        "outputId": "13e2e30e-199c-4de1-8749-b3f8d90a096d"
      },
      "execution_count": 69,
      "outputs": [
        {
          "output_type": "stream",
          "name": "stdout",
          "text": [
            "AC   Q55EH8;\n",
            "DR   AlphaFoldDB; Q55EH8; -.\n",
            "DR   SMR; Q55EH8; -.\n",
            "DR   PaxDb; Q55EH8; -.\n",
            "DR   InParanoid; Q55EH8; -.\n",
            "DR   PhylomeDB; Q55EH8; -.\n",
            "DR   PRO; PR:Q55EH8; -.\n"
          ]
        }
      ]
    },
    {
      "cell_type": "code",
      "source": [],
      "metadata": {
        "id": "x5iBL4tAFGOy"
      },
      "execution_count": null,
      "outputs": []
    }
  ]
}
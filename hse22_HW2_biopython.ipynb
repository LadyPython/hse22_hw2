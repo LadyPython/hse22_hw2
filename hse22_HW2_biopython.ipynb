{
  "nbformat": 4,
  "nbformat_minor": 0,
  "metadata": {
    "colab": {
      "provenance": [],
      "collapsed_sections": [
        "nuikKeO1bL7N",
        "ed-CWFY3cZK0",
        "D2UNiwEyet54",
        "Pr5GctSQxlsQ"
      ],
      "include_colab_link": true
    },
    "kernelspec": {
      "name": "python3",
      "display_name": "Python 3"
    },
    "language_info": {
      "name": "python"
    }
  },
  "cells": [
    {
      "cell_type": "markdown",
      "metadata": {
        "id": "view-in-github",
        "colab_type": "text"
      },
      "source": [
        "<a href=\"https://colab.research.google.com/github/LadyPython/hse22_hw2/blob/main/hse22_HW2_biopython.ipynb\" target=\"_parent\"><img src=\"https://colab.research.google.com/assets/colab-badge.svg\" alt=\"Open In Colab\"/></a>"
      ]
    },
    {
      "cell_type": "markdown",
      "source": [
        "# Скачиваем данные и устанавливаем программы"
      ],
      "metadata": {
        "id": "WJ71oQTxShEj"
      }
    },
    {
      "cell_type": "code",
      "source": [
        "!wget https://raw.githubusercontent.com/ladypython/hse22_hw2/main/data/gms2.lst"
      ],
      "metadata": {
        "id": "fWSU9pxNTOSR",
        "colab": {
          "base_uri": "https://localhost:8080/"
        },
        "outputId": "2c7ad580-3d12-4cbe-aeba-e7e5eab024d6"
      },
      "execution_count": 108,
      "outputs": [
        {
          "output_type": "stream",
          "name": "stdout",
          "text": [
            "--2022-10-19 11:33:38--  https://raw.githubusercontent.com/ladypython/hse22_hw2/main/data/gms2.lst\n",
            "Resolving raw.githubusercontent.com (raw.githubusercontent.com)... 185.199.110.133, 185.199.108.133, 185.199.109.133, ...\n",
            "Connecting to raw.githubusercontent.com (raw.githubusercontent.com)|185.199.110.133|:443... connected.\n",
            "HTTP request sent, awaiting response... 200 OK\n",
            "Length: 221146 (216K) [text/plain]\n",
            "Saving to: ‘gms2.lst.1’\n",
            "\n",
            "gms2.lst.1          100%[===================>] 215.96K  --.-KB/s    in 0.03s   \n",
            "\n",
            "2022-10-19 11:33:38 (8.32 MB/s) - ‘gms2.lst.1’ saved [221146/221146]\n",
            "\n"
          ]
        }
      ]
    },
    {
      "cell_type": "code",
      "source": [
        "!wget https://raw.githubusercontent.com/ladypython/hse22_hw1/main/data/scaffolds.fasta"
      ],
      "metadata": {
        "id": "yWoD0myNTVi8",
        "colab": {
          "base_uri": "https://localhost:8080/"
        },
        "outputId": "068dab2c-49d8-437b-f685-60c126a60450"
      },
      "execution_count": 109,
      "outputs": [
        {
          "output_type": "stream",
          "name": "stdout",
          "text": [
            "--2022-10-19 11:33:38--  https://raw.githubusercontent.com/ladypython/hse22_hw1/main/data/scaffolds.fasta\n",
            "Resolving raw.githubusercontent.com (raw.githubusercontent.com)... 185.199.108.133, 185.199.109.133, 185.199.110.133, ...\n",
            "Connecting to raw.githubusercontent.com (raw.githubusercontent.com)|185.199.108.133|:443... connected.\n",
            "HTTP request sent, awaiting response... 200 OK\n",
            "Length: 3969401 (3.8M) [text/plain]\n",
            "Saving to: ‘scaffolds.fasta.1’\n",
            "\n",
            "scaffolds.fasta.1   100%[===================>]   3.79M  --.-KB/s    in 0.07s   \n",
            "\n",
            "2022-10-19 11:34:06 (53.5 MB/s) - ‘scaffolds.fasta.1’ saved [3969401/3969401]\n",
            "\n"
          ]
        }
      ]
    },
    {
      "cell_type": "code",
      "source": [
        "!wget https://raw.githubusercontent.com/ladypython/hse22_hw2/main/data/proteins.fasta"
      ],
      "metadata": {
        "id": "FkuulZekTbh9",
        "colab": {
          "base_uri": "https://localhost:8080/"
        },
        "outputId": "e6160d31-39b5-489e-defe-40bf765ed0d8"
      },
      "execution_count": 110,
      "outputs": [
        {
          "output_type": "stream",
          "name": "stdout",
          "text": [
            "--2022-10-19 11:34:06--  https://raw.githubusercontent.com/ladypython/hse22_hw2/main/data/proteins.fasta\n",
            "Resolving raw.githubusercontent.com (raw.githubusercontent.com)... 185.199.109.133, 185.199.110.133, 185.199.111.133, ...\n",
            "Connecting to raw.githubusercontent.com (raw.githubusercontent.com)|185.199.109.133|:443... connected.\n",
            "HTTP request sent, awaiting response... 200 OK\n",
            "Length: 1403652 (1.3M) [text/plain]\n",
            "Saving to: ‘proteins.fasta.1’\n",
            "\n",
            "proteins.fasta.1    100%[===================>]   1.34M  --.-KB/s    in 0.08s   \n",
            "\n",
            "2022-10-19 11:34:06 (15.9 MB/s) - ‘proteins.fasta.1’ saved [1403652/1403652]\n",
            "\n"
          ]
        }
      ]
    },
    {
      "cell_type": "code",
      "source": [
        "!wget https://raw.githubusercontent.com/ladypython/hse22_hw2/main/data/scaffolds.hits_from_MIL_1.txt"
      ],
      "metadata": {
        "id": "wljcApdJTjGr",
        "colab": {
          "base_uri": "https://localhost:8080/"
        },
        "outputId": "59aca9fc-959b-431d-e5c4-f0b3ac9d60f2"
      },
      "execution_count": 111,
      "outputs": [
        {
          "output_type": "stream",
          "name": "stdout",
          "text": [
            "--2022-10-19 11:34:06--  https://raw.githubusercontent.com/ladypython/hse22_hw2/main/data/scaffolds.hits_from_MIL_1.txt\n",
            "Resolving raw.githubusercontent.com (raw.githubusercontent.com)... 185.199.108.133, 185.199.109.133, 185.199.110.133, ...\n",
            "Connecting to raw.githubusercontent.com (raw.githubusercontent.com)|185.199.108.133|:443... connected.\n",
            "HTTP request sent, awaiting response... 200 OK\n",
            "Length: 872361 (852K) [text/plain]\n",
            "Saving to: ‘scaffolds.hits_from_MIL_1.txt.1’\n",
            "\n",
            "scaffolds.hits_from 100%[===================>] 851.92K  --.-KB/s    in 0.05s   \n",
            "\n",
            "2022-10-19 11:34:07 (17.6 MB/s) - ‘scaffolds.hits_from_MIL_1.txt.1’ saved [872361/872361]\n",
            "\n"
          ]
        }
      ]
    },
    {
      "cell_type": "code",
      "source": [
        "!wget https://raw.githubusercontent.com/ladypython/hse22_hw2/main/data/scaffolds.hits_from_SwissProt.txt"
      ],
      "metadata": {
        "id": "7ZGyVtAfTopz",
        "colab": {
          "base_uri": "https://localhost:8080/"
        },
        "outputId": "195586d9-162b-4312-820d-01b45b90d761"
      },
      "execution_count": 112,
      "outputs": [
        {
          "output_type": "stream",
          "name": "stdout",
          "text": [
            "--2022-10-19 11:34:07--  https://raw.githubusercontent.com/ladypython/hse22_hw2/main/data/scaffolds.hits_from_SwissProt.txt\n",
            "Resolving raw.githubusercontent.com (raw.githubusercontent.com)... 185.199.108.133, 185.199.109.133, 185.199.110.133, ...\n",
            "Connecting to raw.githubusercontent.com (raw.githubusercontent.com)|185.199.108.133|:443... connected.\n",
            "HTTP request sent, awaiting response... 200 OK\n",
            "Length: 66190 (65K) [text/plain]\n",
            "Saving to: ‘scaffolds.hits_from_SwissProt.txt.1’\n",
            "\n",
            "\r          scaffolds   0%[                    ]       0  --.-KB/s               \rscaffolds.hits_from 100%[===================>]  64.64K  --.-KB/s    in 0.01s   \n",
            "\n",
            "2022-10-19 11:34:07 (5.47 MB/s) - ‘scaffolds.hits_from_SwissProt.txt.1’ saved [66190/66190]\n",
            "\n"
          ]
        }
      ]
    },
    {
      "cell_type": "markdown",
      "metadata": {
        "id": "EkEflOHmCHHW"
      },
      "source": [
        "## Скачиваем геном близкородственной бактерии T.oleivorans"
      ]
    },
    {
      "cell_type": "markdown",
      "metadata": {
        "id": "noBYTW1bRH9O"
      },
      "source": [
        "Геном, последовательности генов (нт) и белков (протеом) для бактерии Thalassolituus oleivorans MIL-1\n",
        "https://www.ncbi.nlm.nih.gov/nuccore/HF680312"
      ]
    },
    {
      "cell_type": "code",
      "source": [
        "!sh -c \"$(curl -fsSL ftp://ftp.ncbi.nlm.nih.gov/entrez/entrezdirect/install-edirect.sh)\""
      ],
      "metadata": {
        "id": "bqv3FR5efmk6",
        "colab": {
          "base_uri": "https://localhost:8080/"
        },
        "outputId": "29593926-cf15-42e0-d8c8-2b6b1f80e6e1"
      },
      "execution_count": 113,
      "outputs": [
        {
          "output_type": "stream",
          "name": "stdout",
          "text": [
            "\n",
            "Entrez Direct has been successfully downloaded and installed.\n",
            "\n",
            "\n",
            "To activate EDirect for this terminal session, please execute the following:\n",
            "\n",
            "export PATH=${PATH}:${HOME}/edirect\n",
            "\n"
          ]
        }
      ]
    },
    {
      "cell_type": "code",
      "source": [
        "!$HOME/edirect/efetch -db nuccore -id HF680312 -format gb  >  T_oleivorans_MIL_1.gbk"
      ],
      "metadata": {
        "id": "4O3-rUx4fvbw"
      },
      "execution_count": 114,
      "outputs": []
    },
    {
      "cell_type": "code",
      "metadata": {
        "id": "j2uga-mieSB6",
        "colab": {
          "base_uri": "https://localhost:8080/"
        },
        "outputId": "dd7d348f-a414-4514-d7ea-9da0d0fb2956"
      },
      "source": [
        "!pip install biopython"
      ],
      "execution_count": 115,
      "outputs": [
        {
          "output_type": "stream",
          "name": "stdout",
          "text": [
            "Looking in indexes: https://pypi.org/simple, https://us-python.pkg.dev/colab-wheels/public/simple/\n",
            "Requirement already satisfied: biopython in /usr/local/lib/python3.7/dist-packages (1.79)\n",
            "Requirement already satisfied: numpy in /usr/local/lib/python3.7/dist-packages (from biopython) (1.21.6)\n"
          ]
        }
      ]
    },
    {
      "cell_type": "markdown",
      "source": [
        "## Аннотация генома"
      ],
      "metadata": {
        "id": "EJIw_JDLUgt5"
      }
    },
    {
      "cell_type": "markdown",
      "source": [
        "Biopython Tutorial: http://biopython.org/DIST/docs/tutorial/Tutorial.html"
      ],
      "metadata": {
        "id": "qhxlclhoYhBh"
      }
    },
    {
      "cell_type": "code",
      "source": [
        "!head -n 20 gms2.lst"
      ],
      "metadata": {
        "id": "G33GF-iGU9Ka",
        "colab": {
          "base_uri": "https://localhost:8080/"
        },
        "outputId": "9cfeb728-6b3e-4962-a91d-bc76817ce9fe"
      },
      "execution_count": 116,
      "outputs": [
        {
          "output_type": "stream",
          "name": "stdout",
          "text": [
            "# GeneMark.hmm-2 LST format\n",
            "# GeneMark.hmm-2 prokaryotic version: 1.25_lic\n",
            "# File with sequence: scaffolds.fasta\n",
            "# File with native parameters: GMS2.mod\n",
            "# Native species name and build: unspecified GeneMarkS-2-1.14_1.25_lic\n",
            "# File with MetaGeneMark parameters: /content/gms2_linux_64/mgm_11.mod\n",
            "# translation table: 11\n",
            "# output date start: Tue Oct 18 02:00:07 2022\n",
            "\n",
            "# sequence-region 1 3880579\n",
            "SequenceID: scaffold1_cov231\n",
            "     1   -   <3    299     297 native GAGGTG 4 1\n",
            "     2   -    372    815     444 atypical AGCGAG 6 1\n",
            "     3   -    840    1361     522 atypical CAGGAA 7 1\n",
            "     4   -    1799    2626     828 atypical CAGGAT 10 1\n",
            "     5   +    2972    3094     123 native TTGGAG 7 1\n",
            "     6   -    3269    4003     735 native CAGGTC 8 1\n",
            "     7   -    4341    5516    1176 native TAGGAG 9 1\n",
            "     8   -    5541    7688    2148 native GTGGAG 8 1\n",
            "     9   +    8057    8851     795 native AAGTAG 6 1\n"
          ]
        }
      ]
    },
    {
      "cell_type": "code",
      "metadata": {
        "id": "1hegJvwMIiPe"
      },
      "source": [
        "from Bio import SeqIO\n",
        "\n",
        "records = dict()\n",
        "for record in SeqIO.parse(\"scaffolds.fasta\", \"fasta\"):\n",
        "  record.annotations['molecule_type'] = 'DNA'\n",
        "  records[record.id] = record"
      ],
      "execution_count": 117,
      "outputs": []
    },
    {
      "cell_type": "markdown",
      "source": [
        "## Добавляем координаты генов и трансляции генов (аминокислотные посл-ти)"
      ],
      "metadata": {
        "id": "nuikKeO1bL7N"
      }
    },
    {
      "cell_type": "markdown",
      "source": [
        "```\n",
        "SequenceID: scaffold3_cov275\n",
        "  3535   -    30    1001     972 atypical GTCGAG 5 1\n",
        "  3536   -    1350    2192     843 native AAAGTG 7 1\n",
        "  3537   +    2304    2507     204 native GCGGAG 7 1\n",
        "  3538   -    2554    2751     198 native TAAGTA 7 1\n",
        "  3539   +    2855    3265     411 native TCGGTC 6 1\n",
        "```"
      ],
      "metadata": {
        "id": "lR-FjFgRba09"
      }
    },
    {
      "cell_type": "code",
      "metadata": {
        "id": "4cXKMhtmYZ9t"
      },
      "source": [
        "from pprint import pprint\n",
        "from Bio.SeqFeature import SeqFeature, FeatureLocation\n",
        "\n",
        "genes = dict()\n",
        "for record in SeqIO.parse(\"proteins.fasta\", \"fasta\"):\n",
        "  _, id, start, end, strand, *rest = record.description.strip().split()\n",
        "  feature = SeqFeature(FeatureLocation(int(start), int(end), strand=(1 if strand == '+' else -1)), type=\"CDS\")\n",
        "  feature.qualifiers['locus_tag'] = [record.name]\n",
        "  feature.qualifiers['translation'] = [record.seq]\n",
        "  records[id].features.append(feature)\n",
        "  genes[record.name] = feature"
      ],
      "execution_count": 118,
      "outputs": []
    },
    {
      "cell_type": "markdown",
      "source": [
        "## Добавляем функции белков (из бактерии MIL-1)"
      ],
      "metadata": {
        "id": "D2UNiwEyet54"
      }
    },
    {
      "cell_type": "markdown",
      "source": [
        "Часть файла scaffolds.hits_from_MIL_1.txt:\n",
        "```\n",
        "3535\tlcl|HF680312.1_prot_CCU72326.1_1877\t99.054\t317\t3\t0\t3\t319\t1\t317\t0.0\t644\n",
        "3535\tlcl|HF680312.1_prot_CCU72392.1_1943\t34.583\t240\t138\t5\t85\t307\t956\t1193\t2.33e-30\t118\n",
        "3535\tlcl|HF680312.1_prot_CCU72759.1_2310\t27.667\t300\t188\t8\t8\t302\t709\t984\t1.02e-24\t101\n",
        "3535\tlcl|HF680312.1_prot_CCU70543.1_94\t42.857\t126\t71\t1\t79\t204\t798\t922\t5.63e-24\t99.4\n",
        "3535\tlcl|HF680312.1_prot_CCU70690.1_241\t26.140\t329\t205\t10\t2\t303\t591\t908\t6.26e-23\t96.7\n",
        "3535\tlcl|HF680312.1_prot_CCU74013.1_3564\t38.462\t130\t76\t3\t91\t219\t685\t811\t4.96e-20\t87.8\n",
        "3535\tlcl|HF680312.1_prot_CCU71475.1_1026\t36.522\t115\t71\t2\t86\t200\t555\t667\t2.19e-16\t76.6\n",
        "3535\tlcl|HF680312.1_prot_CCU71362.1_913\t24.535\t269\t187\t3\t52\t306\t633\t899\t2.61e-14\t70.5\n",
        "3535\tlcl|HF680312.1_prot_CCU70724.1_275\t30.534\t131\t81\t3\t78\t205\t1983\t2106\t6.54e-13\t66.2\n",
        "3535\tlcl|HF680312.1_prot_CCU70719.1_270\t26.087\t115\t83\t1\t90\t204\t15\t127\t9.14e-12\t58.5\n",
        "3535\tlcl|HF680312.1_prot_CCU72006.1_1557\t35.652\t115\t68\t3\t87\t200\t421\t530\t1.06e-11\t62.0\n",
        "3535\tlcl|HF680312.1_prot_CCU72513.1_2064\t33.628\t113\t72\t1\t91\t200\t766\t878\t1.22e-11\t62.4\n",
        "3536\tlcl|HF680312.1_prot_CCU72327.1_1878\t100.000\t280\t0\t0\t1\t280\t1\t280\t0.0\t570\n",
        "3536\tlcl|HF680312.1_prot_CCU72858.1_2409\t27.437\t277\t181\t4\t10\t272\t1\t271\t1.82e-26\t101\n",
        "3537\tlcl|HF680312.1_prot_CCU72328.1_1879\t100.000\t67\t0\t0\t1\t67\t1\t67\t9.75e-44\t132\n",
        "```"
      ],
      "metadata": {
        "id": "tCFpL_GLfDzJ"
      }
    },
    {
      "cell_type": "code",
      "source": [
        "mil_1_genome = SeqIO.read(\"/content/T_oleivorans_MIL_1.gbk\", \"genbank\")"
      ],
      "metadata": {
        "id": "MxKSgTvihLIY"
      },
      "execution_count": 119,
      "outputs": []
    },
    {
      "cell_type": "code",
      "metadata": {
        "id": "4EDCGDdmZt8O"
      },
      "source": [
        "mil1genes = dict()\n",
        "for mil_f in mil_1_genome.features:\n",
        "  if 'protein_id' not in mil_f.qualifiers:\n",
        "    continue\n",
        "\n",
        "  mil1genes[mil_f.qualifiers['protein_id'][0]] = mil_f.qualifiers['product'][0]"
      ],
      "execution_count": 120,
      "outputs": []
    },
    {
      "cell_type": "code",
      "source": [
        "import pandas as pd\n",
        "columns = ['qseqid', 'sseqid', 'pident', 'length', 'mismatch', 'gapopen', 'qstart', 'qend', 'sstart', 'send', 'evalue', 'bitscore']\n",
        "mil1hits = pd.read_csv(\"scaffolds.hits_from_MIL_1.txt\", sep='\\t', header=None, names=columns)\n",
        "mil1hits"
      ],
      "metadata": {
        "colab": {
          "base_uri": "https://localhost:8080/",
          "height": 424
        },
        "id": "eNbTmIShisCM",
        "outputId": "557a729b-3b57-4684-988d-dca97a058bf1"
      },
      "execution_count": 130,
      "outputs": [
        {
          "output_type": "execute_result",
          "data": {
            "text/plain": [
              "       qseqid                               sseqid   pident  length  mismatch  \\\n",
              "0           1  lcl|HF680312.1_prot_CCU71653.1_1204   98.990      99         1   \n",
              "1           1  lcl|HF680312.1_prot_CCU72283.1_1834   97.980      99         2   \n",
              "2           1  lcl|HF680312.1_prot_CCU71933.1_1484   97.980      99         2   \n",
              "3           1  lcl|HF680312.1_prot_CCU71592.1_1143   97.980      99         2   \n",
              "4           1  lcl|HF680312.1_prot_CCU71865.1_1416   96.774      62         2   \n",
              "...       ...                                  ...      ...     ...       ...   \n",
              "10542    3615             lcl|HF680312.1_prot_1833  100.000      52         0   \n",
              "10543    3615  lcl|HF680312.1_prot_CCU71654.1_1205  100.000      52         0   \n",
              "10544    3615  lcl|HF680312.1_prot_CCU71593.1_1144  100.000      52         0   \n",
              "10545    3615  lcl|HF680312.1_prot_CCU71934.1_1485  100.000      52         0   \n",
              "10546    3615   lcl|HF680312.1_prot_CCU71223.1_774  100.000      30         0   \n",
              "\n",
              "       gapopen  qstart  qend  sstart  send        evalue  bitscore  \n",
              "0            0       1    99       1    99  8.080000e-68     196.0  \n",
              "1            0       1    99       1    99  2.290000e-67     194.0  \n",
              "2            0       1    99       1    99  4.150000e-66     191.0  \n",
              "3            0       1    99       1    99  4.150000e-66     191.0  \n",
              "4            0       1    62       1    62  2.150000e-42     130.0  \n",
              "...        ...     ...   ...     ...   ...           ...       ...  \n",
              "10542        0       1    52      95   146  5.410000e-34     109.0  \n",
              "10543        0       1    52      95   146  2.250000e-33     110.0  \n",
              "10544        0       1    52      95   146  2.510000e-33     110.0  \n",
              "10545        0       1    52      95   146  4.490000e-33     110.0  \n",
              "10546        0       1    30      95   124  6.380000e-16      63.5  \n",
              "\n",
              "[10547 rows x 12 columns]"
            ],
            "text/html": [
              "\n",
              "  <div id=\"df-5e0ea372-c030-4c4b-88bb-a0eecc6a9e90\">\n",
              "    <div class=\"colab-df-container\">\n",
              "      <div>\n",
              "<style scoped>\n",
              "    .dataframe tbody tr th:only-of-type {\n",
              "        vertical-align: middle;\n",
              "    }\n",
              "\n",
              "    .dataframe tbody tr th {\n",
              "        vertical-align: top;\n",
              "    }\n",
              "\n",
              "    .dataframe thead th {\n",
              "        text-align: right;\n",
              "    }\n",
              "</style>\n",
              "<table border=\"1\" class=\"dataframe\">\n",
              "  <thead>\n",
              "    <tr style=\"text-align: right;\">\n",
              "      <th></th>\n",
              "      <th>qseqid</th>\n",
              "      <th>sseqid</th>\n",
              "      <th>pident</th>\n",
              "      <th>length</th>\n",
              "      <th>mismatch</th>\n",
              "      <th>gapopen</th>\n",
              "      <th>qstart</th>\n",
              "      <th>qend</th>\n",
              "      <th>sstart</th>\n",
              "      <th>send</th>\n",
              "      <th>evalue</th>\n",
              "      <th>bitscore</th>\n",
              "    </tr>\n",
              "  </thead>\n",
              "  <tbody>\n",
              "    <tr>\n",
              "      <th>0</th>\n",
              "      <td>1</td>\n",
              "      <td>lcl|HF680312.1_prot_CCU71653.1_1204</td>\n",
              "      <td>98.990</td>\n",
              "      <td>99</td>\n",
              "      <td>1</td>\n",
              "      <td>0</td>\n",
              "      <td>1</td>\n",
              "      <td>99</td>\n",
              "      <td>1</td>\n",
              "      <td>99</td>\n",
              "      <td>8.080000e-68</td>\n",
              "      <td>196.0</td>\n",
              "    </tr>\n",
              "    <tr>\n",
              "      <th>1</th>\n",
              "      <td>1</td>\n",
              "      <td>lcl|HF680312.1_prot_CCU72283.1_1834</td>\n",
              "      <td>97.980</td>\n",
              "      <td>99</td>\n",
              "      <td>2</td>\n",
              "      <td>0</td>\n",
              "      <td>1</td>\n",
              "      <td>99</td>\n",
              "      <td>1</td>\n",
              "      <td>99</td>\n",
              "      <td>2.290000e-67</td>\n",
              "      <td>194.0</td>\n",
              "    </tr>\n",
              "    <tr>\n",
              "      <th>2</th>\n",
              "      <td>1</td>\n",
              "      <td>lcl|HF680312.1_prot_CCU71933.1_1484</td>\n",
              "      <td>97.980</td>\n",
              "      <td>99</td>\n",
              "      <td>2</td>\n",
              "      <td>0</td>\n",
              "      <td>1</td>\n",
              "      <td>99</td>\n",
              "      <td>1</td>\n",
              "      <td>99</td>\n",
              "      <td>4.150000e-66</td>\n",
              "      <td>191.0</td>\n",
              "    </tr>\n",
              "    <tr>\n",
              "      <th>3</th>\n",
              "      <td>1</td>\n",
              "      <td>lcl|HF680312.1_prot_CCU71592.1_1143</td>\n",
              "      <td>97.980</td>\n",
              "      <td>99</td>\n",
              "      <td>2</td>\n",
              "      <td>0</td>\n",
              "      <td>1</td>\n",
              "      <td>99</td>\n",
              "      <td>1</td>\n",
              "      <td>99</td>\n",
              "      <td>4.150000e-66</td>\n",
              "      <td>191.0</td>\n",
              "    </tr>\n",
              "    <tr>\n",
              "      <th>4</th>\n",
              "      <td>1</td>\n",
              "      <td>lcl|HF680312.1_prot_CCU71865.1_1416</td>\n",
              "      <td>96.774</td>\n",
              "      <td>62</td>\n",
              "      <td>2</td>\n",
              "      <td>0</td>\n",
              "      <td>1</td>\n",
              "      <td>62</td>\n",
              "      <td>1</td>\n",
              "      <td>62</td>\n",
              "      <td>2.150000e-42</td>\n",
              "      <td>130.0</td>\n",
              "    </tr>\n",
              "    <tr>\n",
              "      <th>...</th>\n",
              "      <td>...</td>\n",
              "      <td>...</td>\n",
              "      <td>...</td>\n",
              "      <td>...</td>\n",
              "      <td>...</td>\n",
              "      <td>...</td>\n",
              "      <td>...</td>\n",
              "      <td>...</td>\n",
              "      <td>...</td>\n",
              "      <td>...</td>\n",
              "      <td>...</td>\n",
              "      <td>...</td>\n",
              "    </tr>\n",
              "    <tr>\n",
              "      <th>10542</th>\n",
              "      <td>3615</td>\n",
              "      <td>lcl|HF680312.1_prot_1833</td>\n",
              "      <td>100.000</td>\n",
              "      <td>52</td>\n",
              "      <td>0</td>\n",
              "      <td>0</td>\n",
              "      <td>1</td>\n",
              "      <td>52</td>\n",
              "      <td>95</td>\n",
              "      <td>146</td>\n",
              "      <td>5.410000e-34</td>\n",
              "      <td>109.0</td>\n",
              "    </tr>\n",
              "    <tr>\n",
              "      <th>10543</th>\n",
              "      <td>3615</td>\n",
              "      <td>lcl|HF680312.1_prot_CCU71654.1_1205</td>\n",
              "      <td>100.000</td>\n",
              "      <td>52</td>\n",
              "      <td>0</td>\n",
              "      <td>0</td>\n",
              "      <td>1</td>\n",
              "      <td>52</td>\n",
              "      <td>95</td>\n",
              "      <td>146</td>\n",
              "      <td>2.250000e-33</td>\n",
              "      <td>110.0</td>\n",
              "    </tr>\n",
              "    <tr>\n",
              "      <th>10544</th>\n",
              "      <td>3615</td>\n",
              "      <td>lcl|HF680312.1_prot_CCU71593.1_1144</td>\n",
              "      <td>100.000</td>\n",
              "      <td>52</td>\n",
              "      <td>0</td>\n",
              "      <td>0</td>\n",
              "      <td>1</td>\n",
              "      <td>52</td>\n",
              "      <td>95</td>\n",
              "      <td>146</td>\n",
              "      <td>2.510000e-33</td>\n",
              "      <td>110.0</td>\n",
              "    </tr>\n",
              "    <tr>\n",
              "      <th>10545</th>\n",
              "      <td>3615</td>\n",
              "      <td>lcl|HF680312.1_prot_CCU71934.1_1485</td>\n",
              "      <td>100.000</td>\n",
              "      <td>52</td>\n",
              "      <td>0</td>\n",
              "      <td>0</td>\n",
              "      <td>1</td>\n",
              "      <td>52</td>\n",
              "      <td>95</td>\n",
              "      <td>146</td>\n",
              "      <td>4.490000e-33</td>\n",
              "      <td>110.0</td>\n",
              "    </tr>\n",
              "    <tr>\n",
              "      <th>10546</th>\n",
              "      <td>3615</td>\n",
              "      <td>lcl|HF680312.1_prot_CCU71223.1_774</td>\n",
              "      <td>100.000</td>\n",
              "      <td>30</td>\n",
              "      <td>0</td>\n",
              "      <td>0</td>\n",
              "      <td>1</td>\n",
              "      <td>30</td>\n",
              "      <td>95</td>\n",
              "      <td>124</td>\n",
              "      <td>6.380000e-16</td>\n",
              "      <td>63.5</td>\n",
              "    </tr>\n",
              "  </tbody>\n",
              "</table>\n",
              "<p>10547 rows × 12 columns</p>\n",
              "</div>\n",
              "      <button class=\"colab-df-convert\" onclick=\"convertToInteractive('df-5e0ea372-c030-4c4b-88bb-a0eecc6a9e90')\"\n",
              "              title=\"Convert this dataframe to an interactive table.\"\n",
              "              style=\"display:none;\">\n",
              "        \n",
              "  <svg xmlns=\"http://www.w3.org/2000/svg\" height=\"24px\"viewBox=\"0 0 24 24\"\n",
              "       width=\"24px\">\n",
              "    <path d=\"M0 0h24v24H0V0z\" fill=\"none\"/>\n",
              "    <path d=\"M18.56 5.44l.94 2.06.94-2.06 2.06-.94-2.06-.94-.94-2.06-.94 2.06-2.06.94zm-11 1L8.5 8.5l.94-2.06 2.06-.94-2.06-.94L8.5 2.5l-.94 2.06-2.06.94zm10 10l.94 2.06.94-2.06 2.06-.94-2.06-.94-.94-2.06-.94 2.06-2.06.94z\"/><path d=\"M17.41 7.96l-1.37-1.37c-.4-.4-.92-.59-1.43-.59-.52 0-1.04.2-1.43.59L10.3 9.45l-7.72 7.72c-.78.78-.78 2.05 0 2.83L4 21.41c.39.39.9.59 1.41.59.51 0 1.02-.2 1.41-.59l7.78-7.78 2.81-2.81c.8-.78.8-2.07 0-2.86zM5.41 20L4 18.59l7.72-7.72 1.47 1.35L5.41 20z\"/>\n",
              "  </svg>\n",
              "      </button>\n",
              "      \n",
              "  <style>\n",
              "    .colab-df-container {\n",
              "      display:flex;\n",
              "      flex-wrap:wrap;\n",
              "      gap: 12px;\n",
              "    }\n",
              "\n",
              "    .colab-df-convert {\n",
              "      background-color: #E8F0FE;\n",
              "      border: none;\n",
              "      border-radius: 50%;\n",
              "      cursor: pointer;\n",
              "      display: none;\n",
              "      fill: #1967D2;\n",
              "      height: 32px;\n",
              "      padding: 0 0 0 0;\n",
              "      width: 32px;\n",
              "    }\n",
              "\n",
              "    .colab-df-convert:hover {\n",
              "      background-color: #E2EBFA;\n",
              "      box-shadow: 0px 1px 2px rgba(60, 64, 67, 0.3), 0px 1px 3px 1px rgba(60, 64, 67, 0.15);\n",
              "      fill: #174EA6;\n",
              "    }\n",
              "\n",
              "    [theme=dark] .colab-df-convert {\n",
              "      background-color: #3B4455;\n",
              "      fill: #D2E3FC;\n",
              "    }\n",
              "\n",
              "    [theme=dark] .colab-df-convert:hover {\n",
              "      background-color: #434B5C;\n",
              "      box-shadow: 0px 1px 3px 1px rgba(0, 0, 0, 0.15);\n",
              "      filter: drop-shadow(0px 1px 2px rgba(0, 0, 0, 0.3));\n",
              "      fill: #FFFFFF;\n",
              "    }\n",
              "  </style>\n",
              "\n",
              "      <script>\n",
              "        const buttonEl =\n",
              "          document.querySelector('#df-5e0ea372-c030-4c4b-88bb-a0eecc6a9e90 button.colab-df-convert');\n",
              "        buttonEl.style.display =\n",
              "          google.colab.kernel.accessAllowed ? 'block' : 'none';\n",
              "\n",
              "        async function convertToInteractive(key) {\n",
              "          const element = document.querySelector('#df-5e0ea372-c030-4c4b-88bb-a0eecc6a9e90');\n",
              "          const dataTable =\n",
              "            await google.colab.kernel.invokeFunction('convertToInteractive',\n",
              "                                                     [key], {});\n",
              "          if (!dataTable) return;\n",
              "\n",
              "          const docLinkHtml = 'Like what you see? Visit the ' +\n",
              "            '<a target=\"_blank\" href=https://colab.research.google.com/notebooks/data_table.ipynb>data table notebook</a>'\n",
              "            + ' to learn more about interactive tables.';\n",
              "          element.innerHTML = '';\n",
              "          dataTable['output_type'] = 'display_data';\n",
              "          await google.colab.output.renderOutput(dataTable, element);\n",
              "          const docLink = document.createElement('div');\n",
              "          docLink.innerHTML = docLinkHtml;\n",
              "          element.appendChild(docLink);\n",
              "        }\n",
              "      </script>\n",
              "    </div>\n",
              "  </div>\n",
              "  "
            ]
          },
          "metadata": {},
          "execution_count": 130
        }
      ]
    },
    {
      "cell_type": "code",
      "source": [
        "mil1hits = mil1hits[mil1hits['sseqid'].str.contains('CCU')].sort_values('bitscore', ascending=False)\n",
        "mil1hits.drop_duplicates('qseqid', inplace=True)"
      ],
      "metadata": {
        "id": "y58zeqOUjn4X"
      },
      "execution_count": 131,
      "outputs": []
    },
    {
      "cell_type": "code",
      "source": [
        "for _, hit in mil1hits.iterrows():\n",
        "  genes[str(hit['qseqid'])].qualifiers['product']= [mil1genes[hit['sseqid'].split('_')[2]]]"
      ],
      "metadata": {
        "id": "ZyxmIhcMkhez"
      },
      "execution_count": 132,
      "outputs": []
    },
    {
      "cell_type": "code",
      "source": [
        "print(f\"Количество генов, аннотировать с помощью сравнения с бактерией MIL-1: {mil1hits.shape[0]}\")"
      ],
      "metadata": {
        "colab": {
          "base_uri": "https://localhost:8080/"
        },
        "id": "6Z9rs0n2_Svk",
        "outputId": "05b24f92-4b5f-4d40-ced7-7c6613f42900"
      },
      "execution_count": 133,
      "outputs": [
        {
          "output_type": "stream",
          "name": "stdout",
          "text": [
            "Количество генов, аннотировать с помощью сравнения с бактерией MIL-1: 3333\n"
          ]
        }
      ]
    },
    {
      "cell_type": "markdown",
      "source": [
        "## Добавляем функции белков (из БД SwissProt)"
      ],
      "metadata": {
        "id": "Pr5GctSQxlsQ"
      }
    },
    {
      "cell_type": "markdown",
      "source": [
        "Читаем информацию из файла scaffolds.hits_from_SwissProt.txt"
      ],
      "metadata": {
        "id": "xLafv2r8xo6P"
      }
    },
    {
      "cell_type": "code",
      "source": [
        "!head scaffolds.hits_from_SwissProt.txt"
      ],
      "metadata": {
        "id": "_bHOMEqhxvDd",
        "colab": {
          "base_uri": "https://localhost:8080/"
        },
        "outputId": "afe1a296-e2e3-4c8b-9271-a6958ff040f4"
      },
      "execution_count": 134,
      "outputs": [
        {
          "output_type": "stream",
          "name": "stdout",
          "text": [
            "169\tsp|P55546|Y4LF_SINFN\t42.553\t141\t80\t1\t1\t141\t1\t140\t1.18e-36\t144\n",
            "428\tsp|Q06916|GUFA_MYXXA\t43.802\t242\t136\t0\t71\t312\t13\t254\t2.33e-47\t162\n",
            "428\tsp|Q3B4G1|ZUPT_CHLL3\t34.016\t244\t148\t6\t72\t304\t17\t258\t6.82e-25\t103\n",
            "428\tsp|Q8N1S5|S39AB_HUMAN\t40.625\t160\t83\t3\t162\t312\t186\t342\t1.64e-23\t101\n",
            "428\tsp|Q6P6S2|S39AB_RAT\t40.000\t160\t84\t3\t162\t312\t179\t335\t2.03e-23\t101\n",
            "428\tsp|Q2YDD4|S39AB_BOVIN\t40.000\t160\t84\t3\t162\t312\t185\t341\t2.62e-23\t101\n",
            "428\tsp|Q8NQK0|ZUPT_CORGL\t35.968\t253\t144\t7\t67\t306\t10\t257\t1.83e-22\t97.4\n",
            "428\tsp|Q8BWY7|S39AB_MOUSE\t41.176\t153\t78\t3\t169\t312\t193\t342\t2.70e-22\t98.6\n",
            "428\tsp|B3ECE6|ZUPT_CHLL2\t34.000\t250\t146\t10\t71\t306\t16\t260\t5.36e-22\t96.3\n",
            "428\tsp|Q28J44|S39AB_XENTR\t39.623\t159\t84\t3\t163\t312\t181\t336\t1.08e-21\t96.7\n"
          ]
        }
      ]
    },
    {
      "cell_type": "markdown",
      "source": [
        "product = 'Similar to SwissProt protein Y1178_METJA (E-value = 2.95e-28)'"
      ],
      "metadata": {
        "id": "UykENPFgyIQu"
      }
    },
    {
      "cell_type": "markdown",
      "source": [
        "Получить функции белков SwissProt из файла: https://ftp.uniprot.org/pub/databases/uniprot/current_release/knowledgebase/complete/uniprot_sprot.dat.gz"
      ],
      "metadata": {
        "id": "HWWUeHCdyAdb"
      }
    },
    {
      "cell_type": "code",
      "source": [
        "!wget https://ftp.uniprot.org/pub/databases/uniprot/current_release/knowledgebase/complete/uniprot_sprot.dat.gz"
      ],
      "metadata": {
        "colab": {
          "base_uri": "https://localhost:8080/"
        },
        "id": "tTRJ0KfnWIdt",
        "outputId": "8236c4c8-768a-4148-8a23-fbccdd45dd4e"
      },
      "execution_count": 135,
      "outputs": [
        {
          "output_type": "stream",
          "name": "stdout",
          "text": [
            "--2022-10-19 11:37:55--  https://ftp.uniprot.org/pub/databases/uniprot/current_release/knowledgebase/complete/uniprot_sprot.dat.gz\n",
            "Resolving ftp.uniprot.org (ftp.uniprot.org)... 128.175.240.195\n",
            "Connecting to ftp.uniprot.org (ftp.uniprot.org)|128.175.240.195|:443... connected.\n",
            "HTTP request sent, awaiting response... 200 OK\n",
            "Length: 642093634 (612M) [application/x-gzip]\n",
            "Saving to: ‘uniprot_sprot.dat.gz’\n",
            "\n",
            "uniprot_sprot.dat.g 100%[===================>] 612.35M  82.6MB/s    in 7.5s    \n",
            "\n",
            "2022-10-19 11:38:03 (81.4 MB/s) - ‘uniprot_sprot.dat.gz’ saved [642093634/642093634]\n",
            "\n"
          ]
        }
      ]
    },
    {
      "cell_type": "code",
      "source": [
        "!gzip -d uniprot_sprot.dat.gz"
      ],
      "metadata": {
        "id": "_7n4ZxdjWPxH",
        "colab": {
          "base_uri": "https://localhost:8080/"
        },
        "outputId": "8431fa2f-510b-47e9-cb4e-5f23478613c6"
      },
      "execution_count": 136,
      "outputs": [
        {
          "output_type": "stream",
          "name": "stdout",
          "text": [
            "gzip: uniprot_sprot.dat already exists; do you wish to overwrite (y or n)? n\n",
            "\tnot overwritten\n"
          ]
        }
      ]
    },
    {
      "cell_type": "code",
      "source": [
        "!head -n 100 uniprot_sprot.dat"
      ],
      "metadata": {
        "colab": {
          "base_uri": "https://localhost:8080/"
        },
        "id": "10L9LoO74rD_",
        "outputId": "92921018-88c2-4085-9818-bd902d4d01d9"
      },
      "execution_count": 137,
      "outputs": [
        {
          "output_type": "stream",
          "name": "stdout",
          "text": [
            "ID   001R_FRG3G              Reviewed;         256 AA.\n",
            "AC   Q6GZX4;\n",
            "DT   28-JUN-2011, integrated into UniProtKB/Swiss-Prot.\n",
            "DT   19-JUL-2004, sequence version 1.\n",
            "DT   02-JUN-2021, entry version 42.\n",
            "DE   RecName: Full=Putative transcription factor 001R;\n",
            "GN   ORFNames=FV3-001R;\n",
            "OS   Frog virus 3 (isolate Goorha) (FV-3).\n",
            "OC   Viruses; Varidnaviria; Bamfordvirae; Nucleocytoviricota; Megaviricetes;\n",
            "OC   Pimascovirales; Iridoviridae; Alphairidovirinae; Ranavirus.\n",
            "OX   NCBI_TaxID=654924;\n",
            "OH   NCBI_TaxID=30343; Dryophytes versicolor (chameleon treefrog).\n",
            "OH   NCBI_TaxID=8404; Lithobates pipiens (Northern leopard frog) (Rana pipiens).\n",
            "OH   NCBI_TaxID=45438; Lithobates sylvaticus (Wood frog) (Rana sylvatica).\n",
            "OH   NCBI_TaxID=8316; Notophthalmus viridescens (Eastern newt) (Triturus viridescens).\n",
            "RN   [1]\n",
            "RP   NUCLEOTIDE SEQUENCE [LARGE SCALE GENOMIC DNA].\n",
            "RX   PubMed=15165820; DOI=10.1016/j.virol.2004.02.019;\n",
            "RA   Tan W.G., Barkman T.J., Gregory Chinchar V., Essani K.;\n",
            "RT   \"Comparative genomic analyses of frog virus 3, type species of the genus\n",
            "RT   Ranavirus (family Iridoviridae).\";\n",
            "RL   Virology 323:70-84(2004).\n",
            "CC   -!- FUNCTION: Transcription activation. {ECO:0000305}.\n",
            "CC   ---------------------------------------------------------------------------\n",
            "CC   Copyrighted by the UniProt Consortium, see https://www.uniprot.org/terms\n",
            "CC   Distributed under the Creative Commons Attribution (CC BY 4.0) License\n",
            "CC   ---------------------------------------------------------------------------\n",
            "DR   EMBL; AY548484; AAT09660.1; -; Genomic_DNA.\n",
            "DR   RefSeq; YP_031579.1; NC_005946.1.\n",
            "DR   SwissPalm; Q6GZX4; -.\n",
            "DR   GeneID; 2947773; -.\n",
            "DR   KEGG; vg:2947773; -.\n",
            "DR   Proteomes; UP000008770; Genome.\n",
            "DR   GO; GO:0046782; P:regulation of viral transcription; IEA:InterPro.\n",
            "DR   InterPro; IPR007031; Poxvirus_VLTF3.\n",
            "DR   Pfam; PF04947; Pox_VLTF3; 1.\n",
            "PE   4: Predicted;\n",
            "KW   Activator; Reference proteome; Transcription; Transcription regulation.\n",
            "FT   CHAIN           1..256\n",
            "FT                   /note=\"Putative transcription factor 001R\"\n",
            "FT                   /id=\"PRO_0000410512\"\n",
            "SQ   SEQUENCE   256 AA;  29735 MW;  B4840739BF7D4121 CRC64;\n",
            "     MAFSAEDVLK EYDRRRRMEA LLLSLYYPND RKLLDYKEWS PPRVQVECPK APVEWNNPPS\n",
            "     EKGLIVGHFS GIKYKGEKAQ ASEVDVNKMC CWVSKFKDAM RRYQGIQTCK IPGKVLSDLD\n",
            "     AKIKAYNLTV EGVEGFVRYS RVTKQHVAAF LKELRHSKQY ENVNLIHYIL TDKRVDIQHL\n",
            "     EKDLVKDFKA LVESAHRMRQ GHMINVKYIL YQLLKKHGHG PDGPDILTVK TGSKGVLYDD\n",
            "     SFRKIYTDLG WKFTPL\n",
            "//\n",
            "ID   002L_FRG3G              Reviewed;         320 AA.\n",
            "AC   Q6GZX3;\n",
            "DT   28-JUN-2011, integrated into UniProtKB/Swiss-Prot.\n",
            "DT   19-JUL-2004, sequence version 1.\n",
            "DT   02-JUN-2021, entry version 43.\n",
            "DE   RecName: Full=Uncharacterized protein 002L;\n",
            "GN   ORFNames=FV3-002L;\n",
            "OS   Frog virus 3 (isolate Goorha) (FV-3).\n",
            "OC   Viruses; Varidnaviria; Bamfordvirae; Nucleocytoviricota; Megaviricetes;\n",
            "OC   Pimascovirales; Iridoviridae; Alphairidovirinae; Ranavirus.\n",
            "OX   NCBI_TaxID=654924;\n",
            "OH   NCBI_TaxID=30343; Dryophytes versicolor (chameleon treefrog).\n",
            "OH   NCBI_TaxID=8404; Lithobates pipiens (Northern leopard frog) (Rana pipiens).\n",
            "OH   NCBI_TaxID=45438; Lithobates sylvaticus (Wood frog) (Rana sylvatica).\n",
            "OH   NCBI_TaxID=8316; Notophthalmus viridescens (Eastern newt) (Triturus viridescens).\n",
            "RN   [1]\n",
            "RP   NUCLEOTIDE SEQUENCE [LARGE SCALE GENOMIC DNA].\n",
            "RX   PubMed=15165820; DOI=10.1016/j.virol.2004.02.019;\n",
            "RA   Tan W.G., Barkman T.J., Gregory Chinchar V., Essani K.;\n",
            "RT   \"Comparative genomic analyses of frog virus 3, type species of the genus\n",
            "RT   Ranavirus (family Iridoviridae).\";\n",
            "RL   Virology 323:70-84(2004).\n",
            "CC   -!- SUBCELLULAR LOCATION: Host membrane {ECO:0000305}; Single-pass membrane\n",
            "CC       protein {ECO:0000305}.\n",
            "CC   ---------------------------------------------------------------------------\n",
            "CC   Copyrighted by the UniProt Consortium, see https://www.uniprot.org/terms\n",
            "CC   Distributed under the Creative Commons Attribution (CC BY 4.0) License\n",
            "CC   ---------------------------------------------------------------------------\n",
            "DR   EMBL; AY548484; AAT09661.1; -; Genomic_DNA.\n",
            "DR   RefSeq; YP_031580.1; NC_005946.1.\n",
            "DR   GeneID; 2947774; -.\n",
            "DR   KEGG; vg:2947774; -.\n",
            "DR   Proteomes; UP000008770; Genome.\n",
            "DR   GO; GO:0033644; C:host cell membrane; IEA:UniProtKB-SubCell.\n",
            "DR   GO; GO:0016021; C:integral component of membrane; IEA:UniProtKB-KW.\n",
            "DR   InterPro; IPR004251; Pox_virus_G9/A16.\n",
            "DR   Pfam; PF03003; Pox_G9-A16; 1.\n",
            "PE   4: Predicted;\n",
            "KW   Host membrane; Membrane; Reference proteome; Transmembrane;\n",
            "KW   Transmembrane helix.\n",
            "FT   CHAIN           1..320\n",
            "FT                   /note=\"Uncharacterized protein 002L\"\n",
            "FT                   /id=\"PRO_0000410509\"\n",
            "FT   TRANSMEM        301..318\n",
            "FT                   /note=\"Helical\"\n",
            "FT                   /evidence=\"ECO:0000255\"\n",
            "FT   REGION          261..294\n",
            "FT                   /note=\"Disordered\"\n",
            "FT                   /evidence=\"ECO:0000256|SAM:MobiDB-lite\"\n",
            "SQ   SEQUENCE   320 AA;  34642 MW;  9E110808B6E328E0 CRC64;\n",
            "     MSIIGATRLQ NDKSDTYSAG PCYAGGCSAF TPRGTCGKDW DLGEQTCASG FCTSQPLCAR\n",
            "     IKKTQVCGLR YSSKGKDPLV SAEWDSRGAP YVRCTYDADL IDTQAQVDQF VSMFGESPSL\n"
          ]
        }
      ]
    },
    {
      "cell_type": "code",
      "source": [
        "!grep \"^ID\" uniprot_sprot.dat > uniprot_sprot_ids.dat"
      ],
      "metadata": {
        "id": "-nbARM7PWy3z"
      },
      "execution_count": 138,
      "outputs": []
    },
    {
      "cell_type": "code",
      "source": [
        "!grep \"^DE   RecName\" uniprot_sprot.dat > uniprot_sprot_des.dat"
      ],
      "metadata": {
        "id": "x5iBL4tAFGOy"
      },
      "execution_count": 139,
      "outputs": []
    },
    {
      "cell_type": "code",
      "source": [
        "swissgenes = dict()\n",
        "for id, de in zip(open(\"uniprot_sprot_ids.dat\"), open(\"uniprot_sprot_des.dat\")):\n",
        "    id = id.strip().split()[1]\n",
        "    swissgenes[id] = de.strip().split('=')[1]"
      ],
      "metadata": {
        "id": "F4KwamA95qdH"
      },
      "execution_count": 140,
      "outputs": []
    },
    {
      "cell_type": "code",
      "source": [
        "swisshits = pd.read_csv('scaffolds.hits_from_SwissProt.txt', sep='\\t', header=None, names=columns)\n",
        "swisshits = swisshits.sort_values('bitscore', ascending=False)\n",
        "swisshits.drop_duplicates('qseqid', inplace=True)"
      ],
      "metadata": {
        "id": "eHSZyLFV7BPR"
      },
      "execution_count": 144,
      "outputs": []
    },
    {
      "cell_type": "code",
      "source": [
        "for _, hit in swisshits.iterrows():\n",
        "  genes[str(hit['qseqid'])].qualifiers['product'] = [swissgenes[hit['sseqid'].split('|')[-1]]]"
      ],
      "metadata": {
        "id": "Zi3D_jkT7hgA"
      },
      "execution_count": 142,
      "outputs": []
    },
    {
      "cell_type": "code",
      "source": [
        "print(f\"Количество генов, аннотировать с помощью БД SwissProt: {swisshits.shape[0]}\")"
      ],
      "metadata": {
        "colab": {
          "base_uri": "https://localhost:8080/"
        },
        "id": "8mhvqBJ6BAxD",
        "outputId": "2c5d1398-44f9-4f25-ddcb-a705f73ddf9c"
      },
      "execution_count": 145,
      "outputs": [
        {
          "output_type": "stream",
          "name": "stdout",
          "text": [
            "Количество генов, аннотировать с помощью БД SwissProt: 53\n"
          ]
        }
      ]
    },
    {
      "cell_type": "code",
      "source": [
        "SeqIO.write(records.values(), \"GENOME.gbk\", \"genbank\")"
      ],
      "metadata": {
        "colab": {
          "base_uri": "https://localhost:8080/"
        },
        "id": "29ftN7I270Ma",
        "outputId": "70d2b8e4-7c3f-4238-b321-006d4540ed7b"
      },
      "execution_count": 146,
      "outputs": [
        {
          "output_type": "execute_result",
          "data": {
            "text/plain": [
              "70"
            ]
          },
          "metadata": {},
          "execution_count": 146
        }
      ]
    },
    {
      "cell_type": "code",
      "source": [],
      "metadata": {
        "id": "vxHJEkno8gct"
      },
      "execution_count": null,
      "outputs": []
    }
  ]
}